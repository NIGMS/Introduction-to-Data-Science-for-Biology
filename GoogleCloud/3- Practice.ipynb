{
 "cells": [
  {
   "cell_type": "markdown",
   "id": "423e9402-a82b-4834-a3a0-931a2c685ba7",
   "metadata": {},
   "source": [
    "# **Practice: Let's make a NEW Decision Tree for Summer 2021 and improve our predictions!**\n",
    "\n"
   ]
  },
  {
   "cell_type": "markdown",
   "id": "302b6319-f7a7-4d82-a9d9-8d1ffb16858f",
   "metadata": {},
   "source": [
    "# Overview \n",
    "In this module, you will put to practice what you have learned in the ***Introduction to Machine Learning: Decision Trees*** by creating, training, and evaluating a decision tree module using Summer 2021 data, enhancing your ability to adapt machine learning models to new datasets and assess their performance. \n",
    "\n",
    "In order to expedite the making of the NEW Decision Tree, we can skip a few steps, and only copy-paste the required lines of code.\n",
    "\n",
    "*   You DON'T need to copy-paste the comments from the original code (the green text that is preceded by \"#\"). \n",
    "*   Follow instead the instructions written as a comment in this following exercise to create a NEW Decision Tree for Summer 2021 data.\n",
    "\n",
    "### **Walkthrough Solution:**\n",
    "If you feel stuck on this exercise feel free to follow the video walkthrough below by **Florentine**"
   ]
  },
  {
   "cell_type": "code",
   "execution_count": null,
   "id": "536f933f-a925-4fe9-945b-87c48fb98ecb",
   "metadata": {},
   "outputs": [],
   "source": [
    "#Run the command below to watch the video\n",
    "from IPython.display import YouTubeVideo\n",
    "\n",
    "YouTubeVideo('eHI4wMjSGuU', width=800, height=400)"
   ]
  },
  {
   "cell_type": "markdown",
   "id": "108151d8-743e-49fb-ac0c-c81680a998bc",
   "metadata": {},
   "source": [
    "# Learning Objectives \n",
    "- Import and Prepare Data \n",
    "    - Import necessary Python libraries. \n",
    "    - Load and separate te 2021 training dataset into features and labels. \n",
    "- Create and Train a Decision Tree Model\n",
    "    - Initalize and train a Decision Tree model using the 2021 training data. \n",
    "- Visualize and Interpret the Decision Tree\n",
    "    - Generate and interpret visual representations of the trained Decision Tree model. \n",
    "- Make Predictions and Evaluate Accuracy\n",
    "    - Use the trained model to make predictions on 2021 testing data.\n",
    "    - Compare predicted values with actual values to assess model accuracy. \n",
    "- Calculate and Compare RMSE \n",
    "    - Calculate the Root Mean Square Error (RMSE) for the 2021 model. \n",
    "    - Compare the RMSE of the 2021 model with the 2020 model to evaluate improvements. "
   ]
  },
  {
   "cell_type": "markdown",
   "id": "9d8356f9-d9e2-44e5-8463-f140b038611a",
   "metadata": {},
   "source": [
    "# Prerequisites \n",
    "***Modules*** \n",
    "\n",
    "- Learning Module ***Introduction to Machine Learning: Decision Trees***\n",
    "\n",
    "***Data Sources***\n",
    "\n",
    "- [COVID cases data (California Health and Human Services Agency)](https://data.chhs.ca.gov/dataset/covid-19-time-series-metrics-by-county-and-state/resource/046cdd2b-31e5-4d34-9ed3-b48cdbc4be7a)\n",
    "- [COVID vaccination data (Los Angeles Times)](https://github.com/datadesk/california-coronavirus-data)\n",
    "- [Unemployment data (California Employment Development Dept.)](https://labormarketinfo.edd.ca.gov/data/unemployment-and-labor-force.html)\n",
    "- [Election data (Harvard University)](https://dataverse.harvard.edu/dataset.xhtml?persistentId=doi:10.7910/DVN/VOQCHQ)\n",
    "\n",
    "***Libraries/Packages***\n",
    "\n",
    "- Pandas\n",
    "- NumPy\n",
    "- Matplotlib\n",
    "- Seaborn\n",
    "- Scikit-learn"
   ]
  },
  {
   "cell_type": "markdown",
   "id": "735d2e88-9015-4711-ab57-87fa6b2ea661",
   "metadata": {},
   "source": [
    "# Get Started\n",
    "Copy-paste the required lines of code from ***Introduction to Machine Learning: Decision Trees*** for each section below. "
   ]
  },
  {
   "cell_type": "markdown",
   "id": "b1e1a46d-6e6c-4386-a0ca-0fcb19009e26",
   "metadata": {},
   "source": [
    "## **1) Repeat Step 1 (Importing Necessary Packages)**"
   ]
  },
  {
   "cell_type": "code",
   "execution_count": null,
   "id": "ce366147-fc2c-416d-8f28-325bacbb28e3",
   "metadata": {},
   "outputs": [],
   "source": []
  },
  {
   "cell_type": "markdown",
   "id": "54218111-757c-4b75-80aa-2754ffd916df",
   "metadata": {},
   "source": [
    "## **2) Repeat Step 2A (Loading 2021 Training Data)**\n",
    "##### **NOTES: When you copy-paste code, don't forget to change 2020 into 2021, every time you see it, including the links!!** "
   ]
  },
  {
   "cell_type": "code",
   "execution_count": null,
   "id": "5812834c-28ec-492e-bebf-0e5cc34d4270",
   "metadata": {},
   "outputs": [],
   "source": []
  },
  {
   "cell_type": "markdown",
   "id": "d98ca761-0f7c-4f5e-acf4-05331b993b22",
   "metadata": {},
   "source": [
    "## **3) Repeat Step 3A (Separate Training Data into LABEL and FEATURES)**\n",
    "SKIP:\n",
    "- Steps 3B and 3C, since this step was only done to allow you to see what the labels look like once we separated it from our main training data.\n",
    "\n",
    "##### **NOTE: When you copy-paste code, don't forget to change 2020 into 2021, every time you see it!!** "
   ]
  },
  {
   "cell_type": "code",
   "execution_count": null,
   "id": "966fee45-4f0d-4f98-8819-a9543a6ab0bc",
   "metadata": {},
   "outputs": [],
   "source": []
  },
  {
   "cell_type": "markdown",
   "id": "26d25871-caa2-41b5-b800-6224932ec759",
   "metadata": {},
   "source": [
    "## **4) Repeat steps 4A and 4B (Create your Decision Tree and Train it!)**\n",
    "\n",
    "##### **NOTE: When you copy-paste code, don't forget to change 2020 into 2021, every time you see it!!** "
   ]
  },
  {
   "cell_type": "code",
   "execution_count": null,
   "id": "14883b4f-d547-4de2-b15e-1602f1c279ae",
   "metadata": {},
   "outputs": [],
   "source": []
  },
  {
   "cell_type": "markdown",
   "id": "d73e8261-7466-4845-b847-1088e2610828",
   "metadata": {},
   "source": [
    "## **5) Repeat step 5 (Visualize your 2021 Decision Tree)**\n",
    "\n",
    "##### **NOTE: When you copy-paste code, don't forget to change 2020 into 2021, every time you see it!!** "
   ]
  },
  {
   "cell_type": "code",
   "execution_count": null,
   "id": "b4eb80ad-bc43-4405-9dd4-c671933d6597",
   "metadata": {},
   "outputs": [],
   "source": []
  },
  {
   "cell_type": "markdown",
   "id": "f7c646d7-46c5-475c-a446-5decacb0f6df",
   "metadata": {},
   "source": [
    "## **6) Repeat step 6A, 6B, 6C (Load Testing Data and make your Predictions)**\n",
    "\n",
    "##### **NOTE: When you copy-paste code, don't forget to change 2020 into 2021, every time you see it!!** "
   ]
  },
  {
   "cell_type": "code",
   "execution_count": null,
   "id": "8dcb9a83-f172-4194-b2aa-0edcc534a191",
   "metadata": {},
   "outputs": [],
   "source": []
  },
  {
   "cell_type": "markdown",
   "id": "fbefce65-467c-46d0-abde-d02662c1d071",
   "metadata": {},
   "source": [
    "## **7) Repeat step 7A, 7B (Check the Accuracy of the Predictions of the new Model Created)**\n",
    "\n",
    "##### **NOTE: When you copy-paste code, don't forget to change 2020 into 2021, every time you see it!!** "
   ]
  },
  {
   "cell_type": "code",
   "execution_count": null,
   "id": "c3c6d248-22da-4ddf-b270-bdb5092863fd",
   "metadata": {},
   "outputs": [],
   "source": []
  },
  {
   "cell_type": "markdown",
   "id": "5b90d2e6-520b-4dd7-810d-85ae7586b009",
   "metadata": {},
   "source": [
    "## **8) Extra: (Calculate RMSE and create Aggregate error histograms)** \n",
    "\n",
    "Compare the performance between the model you just created in the practice session, with the old model performance by calculating the RMSE for both and creating an aggregate errors histogram depicting both models."
   ]
  },
  {
   "cell_type": "markdown",
   "id": "2b5c7f98-e48e-4a7e-a1dc-954a528bbec0",
   "metadata": {
    "jp-MarkdownHeadingCollapsed": true,
    "tags": []
   },
   "source": [
    "# Conclusion \n",
    "In this practice, you successfully: \n",
    "\n",
    "1. **Imported and Prepared Data:** Loaded the 2021 training dataset and separated it into features and labels. \n",
    "2. **Created and Trained a Decision Tree Model:** Initalized and trained a decision tree model using the 2021 data.\n",
    "3. **Visualized and Interpreted the Decision Tree:** Generated and interpreted visual representation of the trained model. \n",
    "4. **Made Predictions and Evaluated Accuracy:** Predicted outcomes using the 2021 testing data and assessed model accuracy. \n",
    "5. **Calculated and Compared RMSE:** Calculated the RMSE for the 2021 model and compared it with the 2020 model.\n",
    "\n",
    "By completing this module, you have reinforced your understanding of decision trees and gained practical experience in adapting machine learning models to new data. This practice not only enhances your technical skills but also prepares you for real-world applications where models need to be continuously updated and evaluated. Keep exploring and refining your models to achieve even better predictions and insights! "
   ]
  },
  {
   "cell_type": "markdown",
   "id": "12602949-b5ef-4ba2-89ff-a5617507e366",
   "metadata": {},
   "source": [
    "# Clean up\n",
    "\n",
    "To keep your workspaced organized remember to: \n",
    "\n",
    "1. Save your work.\n",
    "2. Close any notebooks and active sessions to avoid extra charges."
   ]
  }
 ],
 "metadata": {
  "environment": {
   "kernel": "conda-base-py",
   "name": "workbench-notebooks.m128",
   "type": "gcloud",
   "uri": "us-docker.pkg.dev/deeplearning-platform-release/gcr.io/workbench-notebooks:m128"
  },
  "kernelspec": {
   "display_name": "Python 3 (ipykernel) (Local)",
   "language": "python",
   "name": "conda-base-py"
  },
  "language_info": {
   "codemirror_mode": {
    "name": "ipython",
    "version": 3
   },
   "file_extension": ".py",
   "mimetype": "text/x-python",
   "name": "python",
   "nbconvert_exporter": "python",
   "pygments_lexer": "ipython3",
   "version": "3.10.16"
  }
 },
 "nbformat": 4,
 "nbformat_minor": 5
}
