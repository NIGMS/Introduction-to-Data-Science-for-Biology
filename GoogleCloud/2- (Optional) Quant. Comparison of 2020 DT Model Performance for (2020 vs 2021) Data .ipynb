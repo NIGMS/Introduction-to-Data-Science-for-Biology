{
 "cells": [
  {
   "cell_type": "markdown",
   "id": "8807397b-a776-4baf-b739-178e87bfbfa4",
   "metadata": {},
   "source": [
    "# **Quantitative Comparison of 2020 Decision Tree Model using (2020 vs 2021) Data Features**\n",
    "\n",
    "# Overview \n",
    "Let's take a look at the bar graphs we have for both Decision Tree models (2020 vs 2021) created in the previous notebook:\n",
    "At first glance we can see that in general the model had more accurate predictions in 2020 than in 2021, more of the yellow bars (predictions) are similar to the blue ones (2020 data); whereas in 2021, most of the yellow bars (predictions) are different from the teal colored bars (2021 data). \n",
    "\n",
    "In this notebook we will further explore these differences, this time using metrics and other graphs to show you why and how our Summer 2020 model differed in it's performance.\n",
    "\n",
    "![Model-performance-comparison.jpg](images/Model-performance-comparison.jpg)"
   ]
  },
  {
   "cell_type": "markdown",
   "id": "796c3b6f-919e-4225-bcf6-b8a6648e4e62",
   "metadata": {},
   "source": [
    "# Learning Objectives\n",
    "\n",
    "- Compare Model Performance\n",
    "    - Evaluate the performance of a decision tree model using data fom different years (2020 vs. 2021).\n",
    "    - Interpret bar graphs and other visualizations to understand model accuracy. \n",
    "- Calculate and Interpret RMSE\n",
    "    - Calculate the Root Mean Square Error (RMSE) to quantify model performance. \n",
    "    - Compare RMSE values to determine which dataset the model performs better on. \n",
    "- Analyze Data Differences \n",
    "    - Examine summary statistics and distributions of training data drom differnt years.\n",
    "    - Identify how changes in data features (e.g., vaccination rates, unemployment rates) impact model performance.\n",
    "- Understand Correlations and Trends \n",
    "    - Analyze correlations between features and the target variable (cases per 100K) for different years. \n",
    "    - Use scatterplots and trend lines to visually inspect relationships between variables. \n",
    "- Identify Causes of Model Performance Changes\n",
    "    - Understand the concept of data drift and how it affects model performance over time. \n",
    "    - Recognize the importance of retraining models to adapt to changes in data distibutions and relationships. \n"
   ]
  },
  {
   "cell_type": "markdown",
   "id": "dcfb00d9-4ee7-4a9c-8e0b-2b1c02420b5e",
   "metadata": {},
   "source": [
    "# Prerequisites "
   ]
  },
  {
   "cell_type": "markdown",
   "id": "364c2871-9d2b-4ee5-9b32-c1c0ab4d1bfa",
   "metadata": {},
   "source": [
    "***Modules*** \n",
    "- Learning Module ***Introduction to Machine Learning: Decision Trees***\n",
    "\n",
    "***Data Sources***\n",
    "- Model2020pred_vs_test_2020.csv (module 1)\n",
    "- Model2020pred_vs_test_2021.csv (module 1)\n",
    "\n",
    "***Libraries/Packages***\n",
    "- Pandas\n",
    "- NumPy\n",
    "- Matplotlib\n",
    "- Seaborn\n",
    "- Scikit-learn"
   ]
  },
  {
   "cell_type": "markdown",
   "id": "65a13b55-467d-4c48-93d2-2f9e71c5752d",
   "metadata": {
    "tags": []
   },
   "source": [
    "# Get Started"
   ]
  },
  {
   "cell_type": "markdown",
   "id": "dd0b4ee2-8014-433f-bf5e-4c6bb820000b",
   "metadata": {},
   "source": [
    "### Step 1) Import libraries needed to examine the differences in performance of Summer 2020 model"
   ]
  },
  {
   "cell_type": "code",
   "execution_count": null,
   "id": "4dfbffc7-aa04-4703-aacf-c8f7e0da70dd",
   "metadata": {
    "tags": []
   },
   "outputs": [],
   "source": [
    "# Data Wrangling Imports\n",
    "import pandas as pd\n",
    "import numpy as np\n",
    "\n",
    "# Model Evaluation Imports and Visualization\n",
    "from matplotlib import pyplot as plt\n",
    "from matplotlib.lines import Line2D\n",
    "import seaborn as sns\n",
    "\n",
    "# Quantitative metrics of Model performance\n",
    "from sklearn.metrics import root_mean_squared_error"
   ]
  },
  {
   "cell_type": "markdown",
   "id": "3a60d7c5-ae36-4dc6-b3d9-abef5e2f44a3",
   "metadata": {},
   "source": [
    "### Step 2) Let's load the dataframes showing the differences between actual data and predictions for both years\n",
    "\n",
    "**A)** Actual vs Predictions for 2020 data made by our model \n",
    "\n",
    "By loading our CSV files, we can see what our bar charts were actually plotting. Recall that the **BLUE** bars were the Actual cases_per_100K in 2020 and the **YELLOW** bars were the values predicted by our Summer 2020 Decision Tree model."
   ]
  },
  {
   "cell_type": "code",
   "execution_count": null,
   "id": "c01f90c0-13b3-4bda-ac1a-bfb246626037",
   "metadata": {},
   "outputs": [],
   "source": [
    "# This opens the file that contains the training data, data used to train the algorithm \n",
    "pred_vs_test_2020 = pd.read_csv(\"Model2020pred_vs_test_2020.csv\")\n",
    "pred_vs_test_2020 = pred_vs_test_2020[[\"county\", \"cases_per_100000\",\"Predicted\"]]\n",
    "pred_vs_test_2020"
   ]
  },
  {
   "cell_type": "markdown",
   "id": "5a7732d9-13ad-47fc-bc8f-84b20c385ea3",
   "metadata": {},
   "source": [
    "**B)** Actual vs Predictions for 2021 data made by our model \n",
    "\n",
    "Similarly, the **GREEN** bars were the Actual cases_per_100K in 2021 and the **YELLOW** bars were the values predicted by our Summer 2020 Decision Tree model "
   ]
  },
  {
   "cell_type": "code",
   "execution_count": null,
   "id": "6b0b9e6a-e3bd-4d6a-a0eb-a44938ba052a",
   "metadata": {},
   "outputs": [],
   "source": [
    "# This opens the file that contains the training data, data used to train the algorithm \n",
    "pred_vs_test_2021 = pd.read_csv(\"Model2020pred_vs_test_2021.csv\")\n",
    "pred_vs_test_2021 = pred_vs_test_2021[[\"county\", \"cases_per_100000\",\"Predicted\"]]\n",
    "pred_vs_test_2021"
   ]
  },
  {
   "cell_type": "markdown",
   "id": "2dcf3bc7-9336-4dd6-ac8f-0178b3fa55ff",
   "metadata": {},
   "source": [
    "### Step 3) Calculating the Root Mean Square Error (RMSE)\n",
    "\n",
    "**Root Mean Square Error (RMSE):** is a measurement that shows us how far apart our Predicted values are from our Actual values on average. The lower it is the better the performance of the model. The RMSE allows us to see the average error using the units of our label (Cases_per_100K).\n",
    "\n",
    "$$\n",
    "RMSE = \\sqrt{\\frac{\\sum\\limits _{i=1} ^{N}(Predicted_{i} - Actual_{i})^{2}}{N}}\n",
    "$$\n",
    "N = Number of observations\n",
    "\n",
    "We will calculate this metric for both set of predictions made by our 2020 Summer Decision Tree model:"
   ]
  },
  {
   "cell_type": "code",
   "execution_count": null,
   "id": "13dc4c89-87c4-4796-92d4-d7228d2e2364",
   "metadata": {},
   "outputs": [],
   "source": [
    "# This prints the RMSE value for the performance of the model using 2020 data\n",
    "print(f\"RMSE on 2020 test set: {root_mean_squared_error(pred_vs_test_2020['cases_per_100000'], pred_vs_test_2020['Predicted'])}\")"
   ]
  },
  {
   "cell_type": "code",
   "execution_count": null,
   "id": "03d21a5e-3242-4de3-899c-3871e51dcabf",
   "metadata": {},
   "outputs": [],
   "source": [
    "# This prints the RMSE value for the performance of the model using 2021 data\n",
    "print(f\"RMSE on 2021 test set: {root_mean_squared_error(pred_vs_test_2021['cases_per_100000'], pred_vs_test_2021['Predicted'])}\")"
   ]
  },
  {
   "cell_type": "markdown",
   "id": "d95d26f4-b1de-4fd2-81ca-552907dfb9ac",
   "metadata": {},
   "source": [
    "As you can observe our 2020 Summer Decision Tree model performed better using 2020 data."
   ]
  },
  {
   "cell_type": "markdown",
   "id": "74e7e755-cfe7-42be-87ee-aeeadc7f67e6",
   "metadata": {
    "tags": []
   },
   "source": [
    "### Step 4) Why do you think the accuracy of the model decreased from year 2020 to year 2021?\n",
    "\n",
    "Machine learning models depend highly on the data they were trained on, therefore to understand why the performance decreased, we can take a look at the differences between the training data from year 2020 versus the one from 2021 \n",
    "\n",
    "**A)** Let's load training data for both years once again to take a look at their metrics"
   ]
  },
  {
   "cell_type": "code",
   "execution_count": null,
   "id": "eea88323-ac6a-48ec-b629-11871ad913c2",
   "metadata": {},
   "outputs": [],
   "source": [
    "# This opens the files that contain the training data, data used to train the algorithm \n",
    "S2020_training= pd.read_csv(\"S2020_training.csv\")\n",
    "S2021_training= pd.read_csv(\"S2021_training.csv\")"
   ]
  },
  {
   "cell_type": "markdown",
   "id": "e3748946-da76-429e-8553-ac85e4feba50",
   "metadata": {},
   "source": [
    "**B)** Taking a look at their summary statistics"
   ]
  },
  {
   "cell_type": "code",
   "execution_count": null,
   "id": "67cbd88d-2d4b-4063-8002-19b3e9cad51c",
   "metadata": {},
   "outputs": [],
   "source": [
    "# View basic summary statistics of training set from 2020\n",
    "S2020_training.describe()"
   ]
  },
  {
   "cell_type": "code",
   "execution_count": null,
   "id": "0a680f78-4f6d-43fc-aeff-30db0cc16d47",
   "metadata": {},
   "outputs": [],
   "source": [
    "# View basic summary statistics of training set from 2021\n",
    "S2021_training.describe()"
   ]
  },
  {
   "cell_type": "markdown",
   "id": "b017de0c-e1ee-4fa3-9ca0-a62fea83833f",
   "metadata": {},
   "source": [
    "**C)** Taking a look at the distributions between our label: cases_per_100K; and predictors: Unemployment_Rate and Fully_vaccinated_percent for both years\n",
    "\n",
    "By running the code below we can observe that the **Unemployment Rate** was held constant from 2020 to 2021; however, the **Fully Vaccinated percentage** is very different. We can see that in 2020 the vaccination rates were basically non-existent, whereas in 2021 there were more people being vaccinated, as Dr. Pleuni mentioned in her last video. Also, we can observe that the number of cases_per_100K are overall higher in 2021; this could be due to cases being more often reported by people and/or easier to identify given new public health measures."
   ]
  },
  {
   "cell_type": "code",
   "execution_count": null,
   "id": "a8e5da8d-b994-4891-a3da-05aeb1ef830b",
   "metadata": {},
   "outputs": [],
   "source": [
    "# The following code creates a composite graph comparing our original root node variable (unemployment_rate) to our number of cases (target label)\n",
    "fig, ax = plt.subplots(nrows=2, ncols=3,figsize=(30,15)) \n",
    "\n",
    "# graphs the histogram for upperLeft corner\n",
    "ax[0,0].hist(S2020_training['2020_Unemployment_Rate'], bins=20, color=\"darkblue\")\n",
    "ax[0,0].set_title(\"2020 Unemployment Rate\", size=25)\n",
    "\n",
    "# graphs the histogram for upperMiddle area\n",
    "ax[0,1].hist(S2020_training['fully_vaccinated_percent'], bins=20, color=\"darkblue\")\n",
    "ax[0,1].set_title(\"2020 Fully Vaccinated Percent\", size=25)\n",
    "\n",
    "# graphs the histogram for upperRight corner\n",
    "ax[0,2].hist(S2020_training['cases_per_100000'], bins=20, color=\"darkblue\")\n",
    "ax[0,2].set_title(\"2020 Cases Per 100K\", size=25)\n",
    "\n",
    "# graphs the histogram for lowerLeft corner\n",
    "ax[1,0].hist(S2021_training['2020_Unemployment_Rate'], bins= 20, color=\"teal\")\n",
    "ax[1,0].set_title(\"2021 Unemployment Rate\", size=25)\n",
    "\n",
    "# graphs the histogram for lowerMiddle area\n",
    "ax[1,1].hist(S2021_training['fully_vaccinated_percent'], bins=20,color=\"teal\")\n",
    "ax[1,1].set_title(\"2021 Fully Vaccinated Percent\", size=25)\n",
    "\n",
    "# graphs the histogram for lowerRight corner\n",
    "ax[1,2].hist(S2021_training['cases_per_100000'], bins=20, color=\"teal\")\n",
    "ax[1,2].set_title(\"2021 Cases Per 100K\", size=25)\n"
   ]
  },
  {
   "cell_type": "markdown",
   "id": "911b1a31-77a1-46af-9dfa-32c59bd2b656",
   "metadata": {},
   "source": [
    "**D)** Taking a look at the variable correlations between 2020 vs 2021\n",
    "\n",
    "**Correlation:** is a metric that shows how strongly related two variables are. Correlation values range from -1 to 1. There are mainly two components to judge when we look at correlations:\n",
    "\n",
    "General guidelines to judge the **direction or slope** of these relationship:\n",
    "- If a correlation value is close to 0, then the variables are not very related to each other. \n",
    "- If a correlation value is close to 1, it means a positive correlation, thus the higher one variable is, the higher the other variable will also tend to be.\n",
    "- If a correlation value is close to -1, it means a negative correlation, thus the higher one variable is, the lower the other variable will tend to be.\n",
    "\n",
    "General guidelines to judge the **strength** of these relationship:\n",
    "- values from (-0.3 to +0.3) are generally considered a weak correlation\n",
    "- values from (-0.5 to -0.3 AND 0.3 to 0.5) are generally considered a moderate correlation\n",
    "- values from (-1.00 to -0.5 AND 0.5 to 1.00) are generally considered a strong correlation\n"
   ]
  },
  {
   "cell_type": "code",
   "execution_count": null,
   "id": "c46d0e66-f226-4eac-b484-a2f1db554db8",
   "metadata": {},
   "outputs": [],
   "source": [
    "# This code calculates the correlations within 2020 and 2021 data variables\n",
    "correlations_2020 = S2020_training.iloc[:,1:].corr().round(2)\n",
    "matrix2020 = np.triu(np.ones_like(correlations_2020))\n",
    "correlations_2021 = S2021_training.iloc[:,1:].corr().round(2)\n",
    "matrix2021 = np.triu(np.ones_like(correlations_2021))\n",
    "\n",
    "# The following creates a composite graph showcasing the correlation charts between both years\n",
    "fig, (ax1,ax2) = plt.subplots(ncols=2,figsize=(20,10), sharey=True, sharex=True)\n",
    "g1 = sns.heatmap(correlations_2020,cmap=sns.light_palette(\"darkblue\",n_colors=7),annot=True,annot_kws={\"fontsize\":14},cbar=True,ax=ax1, mask=matrix2020, linewidths=4)\n",
    "g1.set_title(\"2020 Training Data Correlations\", size=25)\n",
    "g2 = sns.heatmap(correlations_2021,cmap=sns.light_palette(\"teal\",n_colors=7),annot=True,annot_kws={\"fontsize\":14},cbar=True,ax=ax2, mask=matrix2021, linewidths=4)\n",
    "g2.set_title(\"2021 Training Data Correlations\", size=25)\n"
   ]
  },
  {
   "cell_type": "markdown",
   "id": "bbfd5d04-6748-41d9-abd0-325e6ac0ad3e",
   "metadata": {},
   "source": [
    "- We can see that in 2020 we obtained moderate correlations between cases_per_100k and **Unemployment Rate (0.48)** , **Green Votes Percent (-0.49)**, **Libertarian Votes Percent (-0.42)** and **Other Votes Percent (0.42)**. The rest were weakly related to our target label.\n",
    "\n",
    "- We can see that in 2021 we obtained stronger correlations between cases_per_100k and **Fully Vaccinated Percentage (-0.61)** , moderate ones with **Democrat Votes Percent(-0.54)** and **Republican Votes Percent(0.53)** and a weak moderate one with **Libertarian Votes percent (0.34)**\n",
    "\n",
    "\n",
    "**IMPORTANT NOTE:** Recall that Dr. Pleuni reminded us in her video that these variables can only give us a correlation to Cases per 100K, they **DO NOT indicate Causality**, they only show us in general what variables are better at predicting our target label. Remember that there are a myriad of reasons that are beyond the variables noted in our exercise. For example we have not accounted for mask mandates in each county, average age of people accounted for in each county, public transportation use, at-home versus on-site working conditions, level of education, etc. Also note that no one variable will be a perfect predictor, instead it is likely that several variables contribute to the overall predictive success of the model.\n"
   ]
  },
  {
   "cell_type": "markdown",
   "id": "6e903dbf-03b3-47c2-b652-825d2a296e0e",
   "metadata": {
    "tags": []
   },
   "source": [
    "**E)** Creating scatterplots and trend lines to visualize relationships\n",
    "\n",
    "We can run the code below to visually inspect the trend lines between the cases_per_100K for each year and see these relationships graphically.\n",
    "\n",
    "**1)** Below we can see the scatterplots and trend line formed using the variables we found worth noting after looking at our 2020 correlation heatmap"
   ]
  },
  {
   "cell_type": "code",
   "execution_count": null,
   "id": "e3c90373-e11a-4f05-9fc1-f6805c576cf9",
   "metadata": {},
   "outputs": [],
   "source": [
    "# Visualize relationship between some columns and cases_per_100k with scatterplots, with best fit line for 2020\n",
    "fig, (ax1,ax2,ax3,ax4)= plt.subplots(ncols=4, figsize=(24, 6), sharey = True)  # Plots will be in 1 row and 4 columns\n",
    "fig.suptitle('Relationships to cases_per_100k for relevant correlations on 2020 for both years', fontsize=16)\n",
    "\n",
    "# 2020 data relationship plots\n",
    "\n",
    "# Graphing the plot showing relationship between cases_per_100k and Unemployment Rate\n",
    "g1 = sns.regplot(data=S2020_training, x='2020_Unemployment_Rate',y='cases_per_100000', ax=ax1, color=\"darkblue\")\n",
    "# Graphing the plot showing relationship between cases_per_100k and green_votes_percent\n",
    "g2 = sns.regplot(data=S2020_training, x='green_votes_percent', y='cases_per_100000', ax=ax2, color=\"darkblue\")\n",
    "# Graphing the plot showing relationship between cases_per_100k and libertarian_votes_percent\n",
    "g3 = sns.regplot(data=S2020_training, x='libertarian_votes_percent', y='cases_per_100000', ax=ax3, color=\"darkblue\")\n",
    "# Graphing the plot showing relationship between cases_per_100k and other_votes_percent\n",
    "g4 = sns.regplot(data=S2020_training, x='other_votes_percent', y='cases_per_100000', ax=ax4, color=\"darkblue\")\n",
    "\n",
    "\n",
    "# 2021 data relationship plots\n",
    "\n",
    "# Graphing the plot showing relationship between cases_per_100k and Unemployment Rate\n",
    "h1 = sns.regplot(data=S2021_training, x='2020_Unemployment_Rate',y='cases_per_100000', ax=ax1, color=\"teal\")\n",
    "# Graphing the plot showing relationship between cases_per_100k and green_votes_percent\n",
    "h2 = sns.regplot(data=S2021_training, x='green_votes_percent', y='cases_per_100000', ax=ax2, color=\"teal\")\n",
    "# Graphing the plot showing relationship between cases_per_100k and libertarian_votes_percent\n",
    "h3 = sns.regplot(data=S2021_training, x='libertarian_votes_percent', y='cases_per_100000', ax=ax3, color=\"teal\")\n",
    "# Graphing the plot showing relationship between cases_per_100k and other_votes_percent\n",
    "h4 = sns.regplot(data=S2021_training, x='other_votes_percent', y='cases_per_100000', ax=ax4, color=\"teal\")\n",
    "\n",
    "# Creating legend\n",
    "custom_lines = [Line2D([0], [0], color=\"teal\", lw=4), Line2D([0], [0], color=\"darkblue\", lw=4)]\n",
    "ax1.legend(custom_lines, ['In 2021', 'In 2020'], loc=\"upper left\",prop={'size': 14})"
   ]
  },
  {
   "cell_type": "markdown",
   "id": "197ae0bb-6af2-4771-8729-050594b3dd2a",
   "metadata": {},
   "source": [
    "**We can see that the relationships that were strong or in a particular direction in 2020 are not the same in 2021**"
   ]
  },
  {
   "cell_type": "markdown",
   "id": "c162f1ff-2b96-43a8-8858-14544fc431c7",
   "metadata": {},
   "source": [
    "**2)** Below we can see the scatterplots and trend line formed using the variables we found worth noting after looking at our 2021 correlation heatmap. We will not plot the Libertarian vote percentage as it was plotted already in the example above."
   ]
  },
  {
   "cell_type": "code",
   "execution_count": null,
   "id": "34a00e13-095e-4512-b5b2-edb8d4501283",
   "metadata": {},
   "outputs": [],
   "source": [
    "# Visualize relationship between some columns and cases_per_100k with scatterplots, with best fit line for 2021\n",
    "fig, (ax1,ax2,ax3)= plt.subplots(ncols=3, figsize=(24, 7), sharey = True)  # # Plots will be in 1 row and 3 columns\n",
    "fig.suptitle('Relationships to cases_per_100k for relevant correlations on 2021 for both years', fontsize=16)\n",
    "\n",
    "# 2020 data relationship plots\n",
    "\n",
    "# Graphing the plot showing relationship between cases_per_100k and fully_vaccinated_percent\n",
    "g1 = sns.regplot(data=S2020_training, x='fully_vaccinated_percent',y='cases_per_100000', ax=ax1, color=\"darkblue\")\n",
    "# Graphing the plot showing relationship between cases_per_100k and democrat_votes_percent\n",
    "g2 = sns.regplot(data=S2020_training, x='democrat_votes_percent', y='cases_per_100000', ax=ax2, color=\"darkblue\")\n",
    "# Graphing the plot showing relationship between cases_per_100k and republican_votes_percent\n",
    "g3 = sns.regplot(data=S2020_training, x='republican_votes_percent', y='cases_per_100000', ax=ax3, color=\"darkblue\")\n",
    "\n",
    "\n",
    "# 2021 data relationship plots\n",
    "\n",
    "# Graphing the plot showing relationship between cases_per_100k and fully_vaccinated_percent\n",
    "h1 = sns.regplot(data=S2021_training, x='fully_vaccinated_percent',y='cases_per_100000', ax=ax1, color=\"teal\")\n",
    "# Graphing the plot showing relationship between cases_per_100k and democrat_votes_percent\n",
    "h2 = sns.regplot(data=S2021_training, x='democrat_votes_percent', y='cases_per_100000', ax=ax2, color=\"teal\")\n",
    "# Graphing the plot showing relationship between cases_per_100k and republican_votes_percent\n",
    "h3 = sns.regplot(data=S2021_training, x='republican_votes_percent', y='cases_per_100000', ax=ax3, color=\"teal\")\n",
    "\n",
    "# Creating legend\n",
    "custom_lines = [Line2D([0], [0], color=\"teal\", lw=4), Line2D([0], [0], color=\"darkblue\", lw=4)]\n",
    "ax1.legend(custom_lines, ['In 2021', 'In 2020'], loc=\"upper left\",prop={'size': 14})"
   ]
  },
  {
   "cell_type": "markdown",
   "id": "3e5f931f-52d2-46a4-be19-d8456fd0be9e",
   "metadata": {},
   "source": [
    "# Conclusion\n",
    "### Reasons that our 2020 model performed worse when predicting 2021 Data\n",
    "\n",
    "All in all we can see that the training data variables in the years 2020 and 2021 do not have the same relationship with our target variable (cases_per_100k) as showcased by the trend lines we see in our scatterplots. There are different kinds of changes that can happen in real life once our model is deployed, this is why it's important to to retrain our model from time to time. For more information about the different kinds of changes (or drifts) that could occur over time check out this useful [website](https://arize.com/model-drift/?utm_source=google&utm_medium=cpc&utm_campaign=18216725893&utm_content=139136719885&utm_term=data%20drift&utm_term=data%20drift&utm_campaign=Monitor+ML+-+Search&utm_source=adwords&utm_medium=ppc&hsa_acc=9379871348&hsa_cam=18216725893&hsa_grp=139136719885&hsa_ad=620214790996&hsa_src=g&hsa_tgt=kwd-328660210229&hsa_kw=data%20drift&hsa_mt=e&hsa_net=adwords&hsa_ver=3&gclid=CjwKCAjw-L-ZBhB4EiwA76YzOet2ULiqRzKwwxgXsCJhh7NgueokMbk9sBee2XAX4WtP4aaEMxPrIxoCHRsQAvD_BwE).\n",
    "\n",
    "We will focus on just one type of drift:\n",
    "\n",
    "**Data Drift:** Also called Features Drift or Covariate Drift. This happens when the relationship between the input features first used during model training change. This drift is due to changes in the statistical properties, correlations, and/or data distributions of the features since training.   \n",
    "\n",
    "\n",
    "- For instance we can observe in our first set of scatterplots that unemployment rate used to have a more pronounced positive slope in 2020, but then in 2021 this slope was less pronounced. In addition recall that these differences are also seen in other variables shown on both sets of scatterplots (libertarian_vote_percentage, democrat_vote_percentage, etc). Dr. Pleuni mentioned that in Summer 2020 most people were not vaccinated as it was not as available, whereas in 2021 it was more available; we can see this stark contrast in the first scatterplot of the second set because all the points in 2020 are clustered near the 0 percent fully vaccinated percent, whereas in 2021 we see that the lowest percentage is at least above 30% of people fully vaccinated.\n",
    "\n",
    "### Now that we have identified the flaws for our 2020 model, let's retrain our Decision Tree Data model using 2021 data in the next notebook!!\n"
   ]
  },
  {
   "cell_type": "markdown",
   "id": "275552df-52a9-4416-b2ca-065db3bd251d",
   "metadata": {},
   "source": [
    "# Clean up\n"
   ]
  },
  {
   "cell_type": "markdown",
   "id": "57f1df8d-310a-4a37-b5b0-29a97300239a",
   "metadata": {},
   "source": [
    "To keep your workspace organized remember to: \n",
    "\n",
    "1. Save your work. \n",
    "2. Close any notebooks and active sessions to avoid extra charges. "
   ]
  }
 ],
 "metadata": {
  "environment": {
   "kernel": "conda-base-py",
   "name": "workbench-notebooks.m128",
   "type": "gcloud",
   "uri": "us-docker.pkg.dev/deeplearning-platform-release/gcr.io/workbench-notebooks:m128"
  },
  "kernelspec": {
   "display_name": "Python 3 (ipykernel) (Local)",
   "language": "python",
   "name": "conda-base-py"
  },
  "language_info": {
   "codemirror_mode": {
    "name": "ipython",
    "version": 3
   },
   "file_extension": ".py",
   "mimetype": "text/x-python",
   "name": "python",
   "nbconvert_exporter": "python",
   "pygments_lexer": "ipython3",
   "version": "3.10.16"
  }
 },
 "nbformat": 4,
 "nbformat_minor": 5
}
